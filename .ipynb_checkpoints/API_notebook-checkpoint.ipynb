{
 "cells": [
  {
   "cell_type": "code",
   "execution_count": 12,
   "metadata": {},
   "outputs": [],
   "source": [
    "import requests\n",
    "API_KEY='5cf4d9752bea4c38b962e643ca227e27' # .env"
   ]
  },
  {
   "cell_type": "code",
   "execution_count": 19,
   "metadata": {},
   "outputs": [],
   "source": [
    "def Get_recipies_id(ingredients:str, #list of infgredients separate by coma in only one str not list.\n",
    "                    number:int=1, # max number of recipies you want to return\n",
    "                    ):\n",
    "    '''Return a list ode the .json files with the recipies'''\n",
    "    \n",
    "    url = \"https://api.spoonacular.com/recipes/findByIngredients\"\n",
    "    \n",
    "    params={\n",
    "        'apiKey':API_KEY,\n",
    "        'ingredients':ingredients,\n",
    "        'number':number \n",
    "    }\n",
    "    \n",
    "    return requests.get(url, params=params).json()"
   ]
  },
  {
   "cell_type": "code",
   "execution_count": 20,
   "metadata": {},
   "outputs": [],
   "source": [
    "def Get_recipies_information(id:list,\n",
    "                             includeNutrition:bool=False):\n",
    "    '''return the url of a recipie'''\n",
    "    \n",
    "    url = f\"https://api.spoonacular.com/recipes/{id}/information\"\n",
    "    \n",
    "    params={\n",
    "        'apiKey':API_KEY,\n",
    "        'id':id,\n",
    "        'includeNutrition':False \n",
    "    }\n",
    "    response=requests.get(url, params=params).json()\n",
    "    \n",
    "    return response['spoonacularSourceUrl']"
   ]
  },
  {
   "cell_type": "code",
   "execution_count": 27,
   "metadata": {},
   "outputs": [],
   "source": [
    "\n",
    "def APIcall(ingredients:list, #list of infgredients\n",
    "            number:int=1, # max number of recipies you want to return\n",
    "            ):\n",
    "    '''Return a list of tuples (title of the recipie, url)'''\n",
    "    ingredients_unique=list(set(ingredients))\n",
    "\n",
    "    ingredients_str=''\n",
    "    for ingredient in ingredients_unique:\n",
    "        if ingredients_str=='':\n",
    "            ingredients_str= ingredient\n",
    "        else:\n",
    "            ingredients_str=ingredients_str + ', ' + ingredient\n",
    "\n",
    "    ingredients_str\n",
    "    \n",
    "    response=Get_recipies_id(ingredients_str,number)\n",
    "    \n",
    "    result=[]\n",
    "    for i in range(number):\n",
    "        information=Get_recipies_information(response[i]['id'])\n",
    "        result.append((response[i]['title'],information))\n",
    "    \n",
    "    return result"
   ]
  },
  {
   "cell_type": "code",
   "execution_count": 43,
   "metadata": {},
   "outputs": [
    {
     "data": {
      "text/plain": [
       "[('What to make for dinner tonight?? Bruschetta Style Pork & Pasta',\n",
       "  'https://spoonacular.com/what-to-make-for-dinner-tonight-bruschetta-style-pork-pasta-715538')]"
      ]
     },
     "execution_count": 43,
     "metadata": {},
     "output_type": "execute_result"
    }
   ],
   "source": [
    "APIcall(['pasta','bacon','cheese'])"
   ]
  },
  {
   "cell_type": "code",
   "execution_count": null,
   "metadata": {},
   "outputs": [],
   "source": []
  }
 ],
 "metadata": {
  "kernelspec": {
   "display_name": "Python 3 (ipykernel)",
   "language": "python",
   "name": "python3"
  },
  "language_info": {
   "codemirror_mode": {
    "name": "ipython",
    "version": 3
   },
   "file_extension": ".py",
   "mimetype": "text/x-python",
   "name": "python",
   "nbconvert_exporter": "python",
   "pygments_lexer": "ipython3",
   "version": "3.10.6"
  },
  "toc": {
   "base_numbering": 1,
   "nav_menu": {},
   "number_sections": true,
   "sideBar": true,
   "skip_h1_title": false,
   "title_cell": "Table of Contents",
   "title_sidebar": "Contents",
   "toc_cell": false,
   "toc_position": {},
   "toc_section_display": true,
   "toc_window_display": false
  }
 },
 "nbformat": 4,
 "nbformat_minor": 2
}
